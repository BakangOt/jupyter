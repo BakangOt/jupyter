{
 "cells": [
  {
   "cell_type": "markdown",
   "metadata": {},
   "source": [
    "# My Jupyter Notebook on IBM Watson Studio"
   ]
  },
  {
   "cell_type": "markdown",
   "metadata": {},
   "source": [
    "__Bakang Otukile__ \n",
    "<br>Data Processing Engineering Consultant"
   ]
  },
  {
   "cell_type": "markdown",
   "metadata": {},
   "source": [
    "_I am interested in data science because it is an important tool in the digital transformation movement. It offers an excellent ability to optimise workflows, increase productivity and simplify mundane tasks._"
   ]
  },
  {
   "cell_type": "markdown",
   "metadata": {},
   "source": [
    "### My code in Cell5 below creates a xlist of 15 odd numbers, multiply them by 2 to create a new ylist. Then generate an xlist against ylist plot. ###"
   ]
  },
  {
   "cell_type": "code",
   "execution_count": 41,
   "metadata": {},
   "outputs": [
    {
     "name": "stdout",
     "output_type": "stream",
     "text": [
      "1 3 5 7 9 11 13 15 17 19 21 23 25 27 29 [1, 3, 5, 7, 9, 11, 13, 15, 17, 19, 21, 23, 25, 27, 29]\n",
      "[2, 6, 10, 14, 18, 22, 26, 30, 34, 38, 42, 46, 50, 54, 58]\n"
     ]
    },
    {
     "data": {
      "image/png": "[encoded data removed]",
      "text/plain": [
       "<Figure size 432x288 with 1 Axes>"
      ]
     },
     "metadata": {
      "needs_background": "light"
     },
     "output_type": "display_data"
    }
   ],
   "source": [
    "start, end = 1, 30\n",
    "xlist = []\n",
    " \n",
    "# iterating each number in list\n",
    "for num in range(start, end + 1):\n",
    "     \n",
    "    # checking condition\n",
    "    if num % 2 != 0:\n",
    "        print(num, end = \" \")\n",
    "      #adding to the list  \n",
    "        xlist.append(num)\n",
    "print (xlist[:15])\n",
    "\n",
    "\n",
    "\n",
    "ylist= []\n",
    "for i in xlist:\n",
    "    n=i*2\n",
    "    ylist.append(n)\n",
    "print (ylist)\n",
    "\n",
    "# importing the required module\n",
    "import matplotlib.pyplot as plt\n",
    "  \n",
    "# plotting the points \n",
    "plt.plot(xlist, ylist)\n",
    "  \n",
    "# naming the x axis\n",
    "plt.xlabel('x - axis')\n",
    "# naming the y axis\n",
    "plt.ylabel('y - axis')\n",
    "  \n",
    "# title of graph\n",
    "plt.title('Plot of xlist against ylist')\n",
    "  \n",
    "# function to show the plot\n",
    "plt.show()"
   ]
  },
  {
   "cell_type": "markdown",
   "metadata": {},
   "source": [
    "Day | Rain (mm) | Sky status\n",
    " --- | --- | ---\n",
    "Mon | 2 | cloudy\n",
    "Tue | 0 | ~~partly~~ cloudy\n",
    "Wed | 8 | cloudy\n",
    "Thurs | 0 | clear\n",
    "~~Fri~~ | ~~0~~ | ~~clear~~\n",
    "\n",
    "\n",
    "1. Tea\n",
    "2. Coffee \n",
    "3. Milk\n",
    "    * Boil the water\n",
    "    - Heat the milk\n",
    "    + Brew with 1 or 2 and enjoy!\n"
   ]
  },
  {
   "cell_type": "markdown",
   "metadata": {},
   "source": []
  }
 ],
 "metadata": {
  "kernelspec": {
   "display_name": "Python 3.9",
   "language": "python",
   "name": "python3"
  },
  "language_info": {
   "codemirror_mode": {
    "name": "ipython",
    "version": 3
   },
   "file_extension": ".py",
   "mimetype": "text/x-python",
   "name": "python",
   "nbconvert_exporter": "python",
   "pygments_lexer": "ipython3",
   "version": "3.9.13"
  }
 },
 "nbformat": 4,
 "nbformat_minor": 1
}
